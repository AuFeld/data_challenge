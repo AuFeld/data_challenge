{
  "nbformat": 4,
  "nbformat_minor": 0,
  "metadata": {
    "colab": {
      "provenance": []
    },
    "kernelspec": {
      "name": "python3",
      "display_name": "Python 3"
    },
    "language_info": {
      "name": "python"
    }
  },
  "cells": [
    {
      "cell_type": "code",
      "execution_count": 3,
      "metadata": {
        "id": "4ZddjUgjNvel"
      },
      "outputs": [],
      "source": [
        "import pandas as pd\n",
        "import os\n",
        "import matplotlib.pyplot as plt\n",
        "import seaborn as sns\n"
      ]
    },
    {
      "cell_type": "markdown",
      "source": [
        "**WEB EVENTS EDA**"
      ],
      "metadata": {
        "id": "-qRV5PHpS-ri"
      }
    },
    {
      "cell_type": "code",
      "source": [
        "path = '/seeds_web_events.csv'\n",
        "web_events = pd.read_csv(path)\n",
        "print(web_events.shape)\n",
        "print(web_events.head)"
      ],
      "metadata": {
        "colab": {
          "base_uri": "https://localhost:8080/"
        },
        "id": "wwRKu5oFOmgH",
        "outputId": "b7b9463f-9b75-47a0-eef7-2c412caea6d7"
      },
      "execution_count": 5,
      "outputs": [
        {
          "output_type": "stream",
          "name": "stdout",
          "text": [
            "(500, 11)\n",
            "<bound method NDFrame.head of                              web_event_id           loaded_at  \\\n",
            "0    ajs-d624083a9697c91377ec31f82fc94b92   8/2/2022 22:19:35   \n",
            "1    ajs-6f4daf1fc2d46fc54189236452a63014   8/28/2022 0:19:26   \n",
            "2    ajs-51170fc6849da343c244311e4acf2e3b   8/16/2022 1:19:27   \n",
            "3    ajs-bf671c44f671ec3cf8413b4332d7135e   8/7/2022 17:19:23   \n",
            "4    ajs-530b7105ade25403bf044e61381a1c3d  8/14/2022 16:19:24   \n",
            "..                                    ...                 ...   \n",
            "495  ajs-bee74e17bdea7462317cdd62fdd0c255    8/6/2022 6:19:11   \n",
            "496  ajs-11934b97cbd53504d238283050995fbf   8/16/2022 0:19:27   \n",
            "497  ajs-d1bcb94b4ae5d87870c7278969db3a51  8/24/2022 17:19:26   \n",
            "498  ajs-728ea25d356fed1637557401fc8a6b7a  8/27/2022 22:19:26   \n",
            "499  ajs-c0ad169e9ce7944b8c3ce7c4acce12ce   8/3/2022 13:19:11   \n",
            "\n",
            "                                cookie_id   customer_id     event_name  \\\n",
            "0    434f2cce-f138-4242-ae71-9286efcff5ef  5.764329e+12  email_sign_up   \n",
            "1    adf612fd-9600-4a19-a3fc-9656c7d44150  5.367765e+12  email_sign_up   \n",
            "2    c32340ff-4b62-43c4-8a67-a7589a5939ed  5.783759e+12  email_sign_up   \n",
            "3    a4232782-87fd-49c5-b01f-52dbf8a02772  2.325109e+11  email_sign_up   \n",
            "4    d8c89995-07db-47d0-aa44-e5ff24977193  5.782256e+12  email_sign_up   \n",
            "..                                    ...           ...            ...   \n",
            "495  fa39b338-b14e-431f-a01a-d7419392a854  5.773508e+12  email_sign_up   \n",
            "496  00446362-5bb5-4e7a-9317-5a41d9f2842d  5.369078e+12  email_sign_up   \n",
            "497  aad2a053-d207-41c6-9f04-f93db2402d18  5.792668e+12  email_sign_up   \n",
            "498  8014d01f-510a-42ed-b712-35a24346a702  5.797168e+12  email_sign_up   \n",
            "499  6968fc66-e190-4a9e-931a-59b3e939c088  5.768025e+12  email_sign_up   \n",
            "\n",
            "     event_url  event_properties           timestamp  \\\n",
            "0          NaN               NaN   8/2/2022 21:17:16   \n",
            "1          NaN               NaN  8/27/2022 22:36:08   \n",
            "2          NaN               NaN   8/16/2022 0:23:21   \n",
            "3          NaN               NaN   8/7/2022 16:31:16   \n",
            "4          NaN               NaN  8/14/2022 15:18:30   \n",
            "..         ...               ...                 ...   \n",
            "495        NaN               NaN    8/6/2022 4:51:00   \n",
            "496        NaN               NaN  8/15/2022 23:13:36   \n",
            "497        NaN               NaN  8/24/2022 15:53:12   \n",
            "498        NaN               NaN  8/27/2022 21:01:59   \n",
            "499        NaN               NaN   8/3/2022 12:36:06   \n",
            "\n",
            "                          utm_campaign utm_source utm_medium  \n",
            "0                                  NaN        NaN        NaN  \n",
            "1                                  NaN        NaN        NaN  \n",
            "2                                  NaN        NaN        NaN  \n",
            "3                                  NaN        NaN        NaN  \n",
            "4                                  NaN        NaN        NaN  \n",
            "..                                 ...        ...        ...  \n",
            "495                                NaN        NaN        NaN  \n",
            "496  b|search|brand|plus|desktop|exact       bing        cpc  \n",
            "497  g|search|brand|core|desktop|exact     google        cpc  \n",
            "498                                NaN        NaN        NaN  \n",
            "499                                NaN        NaN        NaN  \n",
            "\n",
            "[500 rows x 11 columns]>\n"
          ]
        }
      ]
    },
    {
      "cell_type": "code",
      "source": [
        "web_events.isnull().sum()"
      ],
      "metadata": {
        "colab": {
          "base_uri": "https://localhost:8080/"
        },
        "id": "Ce6UhaYYOmn9",
        "outputId": "6965f267-513c-4a86-8bbb-7d5ef0d1ac6a"
      },
      "execution_count": 6,
      "outputs": [
        {
          "output_type": "execute_result",
          "data": {
            "text/plain": [
              "web_event_id          0\n",
              "loaded_at             0\n",
              "cookie_id             0\n",
              "customer_id           1\n",
              "event_name            0\n",
              "event_url           500\n",
              "event_properties    500\n",
              "timestamp             0\n",
              "utm_campaign        369\n",
              "utm_source          359\n",
              "utm_medium          359\n",
              "dtype: int64"
            ]
          },
          "metadata": {},
          "execution_count": 6
        }
      ]
    },
    {
      "cell_type": "code",
      "source": [
        "print(web_events.dtypes)"
      ],
      "metadata": {
        "colab": {
          "base_uri": "https://localhost:8080/"
        },
        "id": "wWFK7VIIOms4",
        "outputId": "79b12eea-5822-4f42-ce15-0b77e6c6c378"
      },
      "execution_count": 8,
      "outputs": [
        {
          "output_type": "stream",
          "name": "stdout",
          "text": [
            "web_event_id         object\n",
            "loaded_at            object\n",
            "cookie_id            object\n",
            "customer_id         float64\n",
            "event_name           object\n",
            "event_url           float64\n",
            "event_properties    float64\n",
            "timestamp            object\n",
            "utm_campaign         object\n",
            "utm_source           object\n",
            "utm_medium           object\n",
            "dtype: object\n"
          ]
        }
      ]
    },
    {
      "cell_type": "markdown",
      "source": [
        "**ORDERS EDA**"
      ],
      "metadata": {
        "id": "DRVxMZRaTDWj"
      }
    },
    {
      "cell_type": "code",
      "source": [
        "orders_path = '/seeds_orders.csv'\n",
        "orders = pd.read_csv(orders_path)\n",
        "print(orders.shape)\n",
        "print(orders.head)"
      ],
      "metadata": {
        "colab": {
          "base_uri": "https://localhost:8080/"
        },
        "id": "FqLpBDRBOm1Q",
        "outputId": "6b97eb78-326a-43b1-b517-6c1fdda6c548"
      },
      "execution_count": 13,
      "outputs": [
        {
          "output_type": "stream",
          "name": "stdout",
          "text": [
            "(500, 12)\n",
            "<bound method NDFrame.head of      order_id     order_loaded_at   order_created_at    order_updated_at  \\\n",
            "0    B1785175   8/2/2022 21:33:18   8/1/2022 1:28:56   8/2/2022 21:00:09   \n",
            "1    B1785195    8/2/2022 2:02:57   8/1/2022 1:48:54    8/2/2022 1:51:59   \n",
            "2    B1785257   8/2/2022 22:33:14   8/1/2022 2:52:09   8/2/2022 22:08:50   \n",
            "3    B1785300    8/1/2022 4:02:43   8/1/2022 3:45:04    8/1/2022 3:45:06   \n",
            "4    B1785356   8/8/2022 20:28:05   8/1/2022 6:15:49   8/8/2022 20:14:46   \n",
            "..        ...                 ...                ...                 ...   \n",
            "495  B1803858  8/26/2022 12:00:48  8/26/2022 0:49:40  8/26/2022 11:46:56   \n",
            "496  B1803858  8/31/2022 14:07:25  8/26/2022 0:49:40  8/31/2022 13:31:21   \n",
            "497  B1803925   9/1/2022 19:28:59  8/26/2022 2:49:27   9/1/2022 18:56:18   \n",
            "498  B1803931   8/27/2022 2:01:44  8/26/2022 2:54:52   8/27/2022 1:41:55   \n",
            "499  B1803931   8/26/2022 3:04:03  8/26/2022 2:54:52   8/26/2022 2:54:53   \n",
            "\n",
            "     order_subtotal  order_total  line_items_line_id  line_items_product_id  \\\n",
            "0                 0          0.0      12360361377851          6658942435387   \n",
            "1                 0          0.0      12360418983995          6658942435387   \n",
            "2                 0          0.0      12360591900731          6849056931899   \n",
            "3                 0          0.0      12360762589243          6658942402619   \n",
            "4                 0          0.0      12361687793723          6658942435387   \n",
            "..              ...          ...                 ...                    ...   \n",
            "495               0          0.0      12461551943739          6658942402619   \n",
            "496               0          0.0      12461551910971          6658942435387   \n",
            "497               0          0.0      12461870481467          6658942435387   \n",
            "498               0          0.0      12461885620283          6658942435387   \n",
            "499               0          0.0      12461885521979          6658942435387   \n",
            "\n",
            "     line_items_variant_id  line_items_price  line_items_quantity  \\\n",
            "0           39640400199739                 0                    1   \n",
            "1           39640400134203                 0                    1   \n",
            "2           40344582619195                 0                    1   \n",
            "3           39640399937595                 0                    1   \n",
            "4           39640400166971                 0                    1   \n",
            "..                     ...               ...                  ...   \n",
            "495         39640399970363                 0                    1   \n",
            "496         39640400068667                 0                    1   \n",
            "497         39640400068667                 0                    1   \n",
            "498         39640400232507                 0                    1   \n",
            "499         39640400068667                 0                    1   \n",
            "\n",
            "     line_items_line_total_discount  \n",
            "0                               NaN  \n",
            "1                               NaN  \n",
            "2                               NaN  \n",
            "3                               NaN  \n",
            "4                               NaN  \n",
            "..                              ...  \n",
            "495                             NaN  \n",
            "496                             NaN  \n",
            "497                             NaN  \n",
            "498                             NaN  \n",
            "499                             NaN  \n",
            "\n",
            "[500 rows x 12 columns]>\n"
          ]
        }
      ]
    },
    {
      "cell_type": "code",
      "source": [
        "orders.isnull().sum()"
      ],
      "metadata": {
        "colab": {
          "base_uri": "https://localhost:8080/"
        },
        "id": "fxlswBgqRsLN",
        "outputId": "0dae2409-62b6-4c0a-bb48-860013d5e270"
      },
      "execution_count": 14,
      "outputs": [
        {
          "output_type": "execute_result",
          "data": {
            "text/plain": [
              "order_id                            0\n",
              "order_loaded_at                     0\n",
              "order_created_at                    0\n",
              "order_updated_at                    0\n",
              "order_subtotal                      0\n",
              "order_total                         0\n",
              "line_items_line_id                  0\n",
              "line_items_product_id               0\n",
              "line_items_variant_id               0\n",
              "line_items_price                    0\n",
              "line_items_quantity                 0\n",
              "line_items_line_total_discount    319\n",
              "dtype: int64"
            ]
          },
          "metadata": {},
          "execution_count": 14
        }
      ]
    },
    {
      "cell_type": "code",
      "source": [
        "print(orders.dtypes)"
      ],
      "metadata": {
        "colab": {
          "base_uri": "https://localhost:8080/"
        },
        "id": "p51HE3coRsTS",
        "outputId": "343f5279-9f96-471c-9d10-10224f14f14b"
      },
      "execution_count": 15,
      "outputs": [
        {
          "output_type": "stream",
          "name": "stdout",
          "text": [
            "order_id                           object\n",
            "order_loaded_at                    object\n",
            "order_created_at                   object\n",
            "order_updated_at                   object\n",
            "order_subtotal                      int64\n",
            "order_total                       float64\n",
            "line_items_line_id                  int64\n",
            "line_items_product_id               int64\n",
            "line_items_variant_id               int64\n",
            "line_items_price                    int64\n",
            "line_items_quantity                 int64\n",
            "line_items_line_total_discount    float64\n",
            "dtype: object\n"
          ]
        }
      ]
    },
    {
      "cell_type": "code",
      "source": [
        "orders.describe()"
      ],
      "metadata": {
        "colab": {
          "base_uri": "https://localhost:8080/",
          "height": 300
        },
        "id": "Z4GJFzRbRsZv",
        "outputId": "bbffcee7-972f-4ac2-bb21-c4cb3461d1a7"
      },
      "execution_count": 16,
      "outputs": [
        {
          "output_type": "execute_result",
          "data": {
            "text/plain": [
              "       order_subtotal  order_total  line_items_line_id  line_items_product_id  \\\n",
              "count           500.0    500.00000        5.000000e+02           5.000000e+02   \n",
              "mean              0.0      0.14640        1.240902e+13           5.313894e+12   \n",
              "std               0.0      1.91105        3.027991e+10           2.462401e+12   \n",
              "min               0.0      0.00000        1.236036e+13           5.502688e+09   \n",
              "25%               0.0      0.00000        1.238016e+13           5.020258e+12   \n",
              "50%               0.0      0.00000        1.240753e+13           6.658942e+12   \n",
              "75%               0.0      0.00000        1.243467e+13           6.658942e+12   \n",
              "max               0.0     30.00000        1.246189e+13           6.934656e+12   \n",
              "\n",
              "       line_items_variant_id  line_items_price  line_items_quantity  \\\n",
              "count           5.000000e+02        500.000000           500.000000   \n",
              "mean            3.503971e+13         90.142000             1.110000   \n",
              "std             1.144257e+13        181.584315             0.677361   \n",
              "min             1.686534e+10          0.000000             1.000000   \n",
              "25%             3.925733e+13          0.000000             1.000000   \n",
              "50%             3.964040e+13          0.000000             1.000000   \n",
              "75%             3.964040e+13        148.000000             1.000000   \n",
              "max             4.062855e+13       2600.000000            12.000000   \n",
              "\n",
              "       line_items_line_total_discount  \n",
              "count                      181.000000  \n",
              "mean                       301.265193  \n",
              "std                        537.676376  \n",
              "min                         22.000000  \n",
              "25%                        144.000000  \n",
              "50%                        258.000000  \n",
              "75%                        348.000000  \n",
              "max                       6816.000000  "
            ],
            "text/html": [
              "\n",
              "  <div id=\"df-7a5d4b6f-f234-4a38-ad8d-7bb598936fde\">\n",
              "    <div class=\"colab-df-container\">\n",
              "      <div>\n",
              "<style scoped>\n",
              "    .dataframe tbody tr th:only-of-type {\n",
              "        vertical-align: middle;\n",
              "    }\n",
              "\n",
              "    .dataframe tbody tr th {\n",
              "        vertical-align: top;\n",
              "    }\n",
              "\n",
              "    .dataframe thead th {\n",
              "        text-align: right;\n",
              "    }\n",
              "</style>\n",
              "<table border=\"1\" class=\"dataframe\">\n",
              "  <thead>\n",
              "    <tr style=\"text-align: right;\">\n",
              "      <th></th>\n",
              "      <th>order_subtotal</th>\n",
              "      <th>order_total</th>\n",
              "      <th>line_items_line_id</th>\n",
              "      <th>line_items_product_id</th>\n",
              "      <th>line_items_variant_id</th>\n",
              "      <th>line_items_price</th>\n",
              "      <th>line_items_quantity</th>\n",
              "      <th>line_items_line_total_discount</th>\n",
              "    </tr>\n",
              "  </thead>\n",
              "  <tbody>\n",
              "    <tr>\n",
              "      <th>count</th>\n",
              "      <td>500.0</td>\n",
              "      <td>500.00000</td>\n",
              "      <td>5.000000e+02</td>\n",
              "      <td>5.000000e+02</td>\n",
              "      <td>5.000000e+02</td>\n",
              "      <td>500.000000</td>\n",
              "      <td>500.000000</td>\n",
              "      <td>181.000000</td>\n",
              "    </tr>\n",
              "    <tr>\n",
              "      <th>mean</th>\n",
              "      <td>0.0</td>\n",
              "      <td>0.14640</td>\n",
              "      <td>1.240902e+13</td>\n",
              "      <td>5.313894e+12</td>\n",
              "      <td>3.503971e+13</td>\n",
              "      <td>90.142000</td>\n",
              "      <td>1.110000</td>\n",
              "      <td>301.265193</td>\n",
              "    </tr>\n",
              "    <tr>\n",
              "      <th>std</th>\n",
              "      <td>0.0</td>\n",
              "      <td>1.91105</td>\n",
              "      <td>3.027991e+10</td>\n",
              "      <td>2.462401e+12</td>\n",
              "      <td>1.144257e+13</td>\n",
              "      <td>181.584315</td>\n",
              "      <td>0.677361</td>\n",
              "      <td>537.676376</td>\n",
              "    </tr>\n",
              "    <tr>\n",
              "      <th>min</th>\n",
              "      <td>0.0</td>\n",
              "      <td>0.00000</td>\n",
              "      <td>1.236036e+13</td>\n",
              "      <td>5.502688e+09</td>\n",
              "      <td>1.686534e+10</td>\n",
              "      <td>0.000000</td>\n",
              "      <td>1.000000</td>\n",
              "      <td>22.000000</td>\n",
              "    </tr>\n",
              "    <tr>\n",
              "      <th>25%</th>\n",
              "      <td>0.0</td>\n",
              "      <td>0.00000</td>\n",
              "      <td>1.238016e+13</td>\n",
              "      <td>5.020258e+12</td>\n",
              "      <td>3.925733e+13</td>\n",
              "      <td>0.000000</td>\n",
              "      <td>1.000000</td>\n",
              "      <td>144.000000</td>\n",
              "    </tr>\n",
              "    <tr>\n",
              "      <th>50%</th>\n",
              "      <td>0.0</td>\n",
              "      <td>0.00000</td>\n",
              "      <td>1.240753e+13</td>\n",
              "      <td>6.658942e+12</td>\n",
              "      <td>3.964040e+13</td>\n",
              "      <td>0.000000</td>\n",
              "      <td>1.000000</td>\n",
              "      <td>258.000000</td>\n",
              "    </tr>\n",
              "    <tr>\n",
              "      <th>75%</th>\n",
              "      <td>0.0</td>\n",
              "      <td>0.00000</td>\n",
              "      <td>1.243467e+13</td>\n",
              "      <td>6.658942e+12</td>\n",
              "      <td>3.964040e+13</td>\n",
              "      <td>148.000000</td>\n",
              "      <td>1.000000</td>\n",
              "      <td>348.000000</td>\n",
              "    </tr>\n",
              "    <tr>\n",
              "      <th>max</th>\n",
              "      <td>0.0</td>\n",
              "      <td>30.00000</td>\n",
              "      <td>1.246189e+13</td>\n",
              "      <td>6.934656e+12</td>\n",
              "      <td>4.062855e+13</td>\n",
              "      <td>2600.000000</td>\n",
              "      <td>12.000000</td>\n",
              "      <td>6816.000000</td>\n",
              "    </tr>\n",
              "  </tbody>\n",
              "</table>\n",
              "</div>\n",
              "      <button class=\"colab-df-convert\" onclick=\"convertToInteractive('df-7a5d4b6f-f234-4a38-ad8d-7bb598936fde')\"\n",
              "              title=\"Convert this dataframe to an interactive table.\"\n",
              "              style=\"display:none;\">\n",
              "        \n",
              "  <svg xmlns=\"http://www.w3.org/2000/svg\" height=\"24px\"viewBox=\"0 0 24 24\"\n",
              "       width=\"24px\">\n",
              "    <path d=\"M0 0h24v24H0V0z\" fill=\"none\"/>\n",
              "    <path d=\"M18.56 5.44l.94 2.06.94-2.06 2.06-.94-2.06-.94-.94-2.06-.94 2.06-2.06.94zm-11 1L8.5 8.5l.94-2.06 2.06-.94-2.06-.94L8.5 2.5l-.94 2.06-2.06.94zm10 10l.94 2.06.94-2.06 2.06-.94-2.06-.94-.94-2.06-.94 2.06-2.06.94z\"/><path d=\"M17.41 7.96l-1.37-1.37c-.4-.4-.92-.59-1.43-.59-.52 0-1.04.2-1.43.59L10.3 9.45l-7.72 7.72c-.78.78-.78 2.05 0 2.83L4 21.41c.39.39.9.59 1.41.59.51 0 1.02-.2 1.41-.59l7.78-7.78 2.81-2.81c.8-.78.8-2.07 0-2.86zM5.41 20L4 18.59l7.72-7.72 1.47 1.35L5.41 20z\"/>\n",
              "  </svg>\n",
              "      </button>\n",
              "      \n",
              "  <style>\n",
              "    .colab-df-container {\n",
              "      display:flex;\n",
              "      flex-wrap:wrap;\n",
              "      gap: 12px;\n",
              "    }\n",
              "\n",
              "    .colab-df-convert {\n",
              "      background-color: #E8F0FE;\n",
              "      border: none;\n",
              "      border-radius: 50%;\n",
              "      cursor: pointer;\n",
              "      display: none;\n",
              "      fill: #1967D2;\n",
              "      height: 32px;\n",
              "      padding: 0 0 0 0;\n",
              "      width: 32px;\n",
              "    }\n",
              "\n",
              "    .colab-df-convert:hover {\n",
              "      background-color: #E2EBFA;\n",
              "      box-shadow: 0px 1px 2px rgba(60, 64, 67, 0.3), 0px 1px 3px 1px rgba(60, 64, 67, 0.15);\n",
              "      fill: #174EA6;\n",
              "    }\n",
              "\n",
              "    [theme=dark] .colab-df-convert {\n",
              "      background-color: #3B4455;\n",
              "      fill: #D2E3FC;\n",
              "    }\n",
              "\n",
              "    [theme=dark] .colab-df-convert:hover {\n",
              "      background-color: #434B5C;\n",
              "      box-shadow: 0px 1px 3px 1px rgba(0, 0, 0, 0.15);\n",
              "      filter: drop-shadow(0px 1px 2px rgba(0, 0, 0, 0.3));\n",
              "      fill: #FFFFFF;\n",
              "    }\n",
              "  </style>\n",
              "\n",
              "      <script>\n",
              "        const buttonEl =\n",
              "          document.querySelector('#df-7a5d4b6f-f234-4a38-ad8d-7bb598936fde button.colab-df-convert');\n",
              "        buttonEl.style.display =\n",
              "          google.colab.kernel.accessAllowed ? 'block' : 'none';\n",
              "\n",
              "        async function convertToInteractive(key) {\n",
              "          const element = document.querySelector('#df-7a5d4b6f-f234-4a38-ad8d-7bb598936fde');\n",
              "          const dataTable =\n",
              "            await google.colab.kernel.invokeFunction('convertToInteractive',\n",
              "                                                     [key], {});\n",
              "          if (!dataTable) return;\n",
              "\n",
              "          const docLinkHtml = 'Like what you see? Visit the ' +\n",
              "            '<a target=\"_blank\" href=https://colab.research.google.com/notebooks/data_table.ipynb>data table notebook</a>'\n",
              "            + ' to learn more about interactive tables.';\n",
              "          element.innerHTML = '';\n",
              "          dataTable['output_type'] = 'display_data';\n",
              "          await google.colab.output.renderOutput(dataTable, element);\n",
              "          const docLink = document.createElement('div');\n",
              "          docLink.innerHTML = docLinkHtml;\n",
              "          element.appendChild(docLink);\n",
              "        }\n",
              "      </script>\n",
              "    </div>\n",
              "  </div>\n",
              "  "
            ]
          },
          "metadata": {},
          "execution_count": 16
        }
      ]
    },
    {
      "cell_type": "code",
      "source": [
        "corr = orders.corr()\n",
        "plt.figure(figsize=(15,15))\n",
        "sns.heatmap(corr, annot=True, cmap='Blues')"
      ],
      "metadata": {
        "colab": {
          "base_uri": "https://localhost:8080/",
          "height": 1000
        },
        "id": "8Lh2FanyRsf8",
        "outputId": "b7814708-96ec-49bd-83a2-ae135f9ca9e2"
      },
      "execution_count": 19,
      "outputs": [
        {
          "output_type": "execute_result",
          "data": {
            "text/plain": [
              "<matplotlib.axes._subplots.AxesSubplot at 0x7efe5ee89400>"
            ]
          },
          "metadata": {},
          "execution_count": 19
        },
        {
          "output_type": "display_data",
          "data": {
            "text/plain": [
              "<Figure size 1080x1080 with 2 Axes>"
            ],
            "image/png": "[encoded data removed]"
          },
          "metadata": {
            "needs_background": "light"
          }
        }
      ]
    },
    {
      "cell_type": "markdown",
      "source": [
        "**PRODUCTS EDA**:"
      ],
      "metadata": {
        "id": "Bdf5JMPSTJPk"
      }
    },
    {
      "cell_type": "code",
      "source": [
        "products_path = '/seeds_products.csv'\n",
        "products = pd.read_csv(products_path)\n",
        "print(products.head())\n",
        "print(products.shape)"
      ],
      "metadata": {
        "colab": {
          "base_uri": "https://localhost:8080/"
        },
        "id": "1VNDj2DtTYtE",
        "outputId": "07c041e5-0ff0-4da4-dab5-c580e1103640"
      },
      "execution_count": 20,
      "outputs": [
        {
          "output_type": "stream",
          "name": "stdout",
          "text": [
            "      product_id    product_loaded_at product_category  product_created_at  \\\n",
            "0     5972011521     2/1/2022 1:59:44        Gift Card   5/4/2016 19:47:32   \n",
            "1     5972011521   3/18/2021 15:02:47        Gift Card   5/4/2016 19:47:32   \n",
            "2  4327690403899   11/7/2019 21:45:41      White Goods  11/7/2019 18:48:51   \n",
            "3  1489352491067  12/17/2020 13:31:51         Mattress  8/23/2018 18:33:12   \n",
            "4  4399160754235    6/2/2021 13:30:50      White Goods   1/2/2020 16:47:22   \n",
            "\n",
            "    prodcut_updated_at           product_title      variant_id   variant_sku  \\\n",
            "0     2/1/2022 1:40:13       Digital Gift Card  30249566011451  EGIFTCARD250   \n",
            "1   3/18/2021 14:55:01       Digital Gift Card  30249046245435  EGIFTCARD050   \n",
            "2   11/7/2019 21:01:38         Mattress Topper  31072525647931       BBMTOPQ   \n",
            "3  12/17/2020 13:26:45            The Mattress  33307944976443     BBMMATTK2   \n",
            "4    6/2/2021 13:22:06  The Mattress Protector  31415445291067     PMPSSWTTX   \n",
            "\n",
            "  variant_title  variant_created_at   variant_updated_at  variant_option1  \\\n",
            "0          $250  9/24/2019 10:57:01     2/1/2022 1:37:11            250.0   \n",
            "1           $50   9/24/2019 4:03:02   3/18/2021 14:53:20             50.0   \n",
            "2         Queen  11/7/2019 19:51:53   11/7/2019 21:01:04              NaN   \n",
            "3          King  4/13/2020 12:51:27  12/17/2020 13:20:51              NaN   \n",
            "4       Twin XL   1/2/2020 16:54:33    6/2/2021 13:22:06              NaN   \n",
            "\n",
            "   variant_option2  \n",
            "0              NaN  \n",
            "1              NaN  \n",
            "2              NaN  \n",
            "3              NaN  \n",
            "4              NaN  \n",
            "(500, 13)\n"
          ]
        }
      ]
    },
    {
      "cell_type": "code",
      "source": [
        "products.isnull().sum()"
      ],
      "metadata": {
        "colab": {
          "base_uri": "https://localhost:8080/"
        },
        "id": "5ufwJ-_qT4V1",
        "outputId": "959b7dfd-427f-4402-84fc-c9ccb10eaea1"
      },
      "execution_count": 21,
      "outputs": [
        {
          "output_type": "execute_result",
          "data": {
            "text/plain": [
              "product_id              0\n",
              "product_loaded_at       0\n",
              "product_category       11\n",
              "product_created_at      0\n",
              "prodcut_updated_at      0\n",
              "product_title           0\n",
              "variant_id              0\n",
              "variant_sku             1\n",
              "variant_title           0\n",
              "variant_created_at      0\n",
              "variant_updated_at      0\n",
              "variant_option1       498\n",
              "variant_option2       500\n",
              "dtype: int64"
            ]
          },
          "metadata": {},
          "execution_count": 21
        }
      ]
    },
    {
      "cell_type": "code",
      "source": [
        "print(products.dtypes)"
      ],
      "metadata": {
        "colab": {
          "base_uri": "https://localhost:8080/"
        },
        "id": "QTFgJqx3T4Sd",
        "outputId": "659f674d-ee0d-4d1c-8372-84dc2ec7ab44"
      },
      "execution_count": 22,
      "outputs": [
        {
          "output_type": "stream",
          "name": "stdout",
          "text": [
            "product_id              int64\n",
            "product_loaded_at      object\n",
            "product_category       object\n",
            "product_created_at     object\n",
            "prodcut_updated_at     object\n",
            "product_title          object\n",
            "variant_id              int64\n",
            "variant_sku            object\n",
            "variant_title          object\n",
            "variant_created_at     object\n",
            "variant_updated_at     object\n",
            "variant_option1       float64\n",
            "variant_option2       float64\n",
            "dtype: object\n"
          ]
        }
      ]
    },
    {
      "cell_type": "code",
      "source": [
        "products.describe()"
      ],
      "metadata": {
        "colab": {
          "base_uri": "https://localhost:8080/",
          "height": 282
        },
        "id": "3uxyI1fBT4O-",
        "outputId": "9b170463-d02f-405a-dc6e-ed39be4e31bb"
      },
      "execution_count": 23,
      "outputs": [
        {
          "output_type": "execute_result",
          "data": {
            "text/plain": [
              "         product_id    variant_id  variant_option1  variant_option2\n",
              "count  5.000000e+02  5.000000e+02         2.000000              0.0\n",
              "mean   1.656402e+12  1.753680e+13       150.000000              NaN\n",
              "std    2.479467e+12  1.663319e+13       141.421356              NaN\n",
              "min    5.502687e+09  1.686526e+10        50.000000              NaN\n",
              "25%    5.505405e+09  4.569957e+10       100.000000              NaN\n",
              "50%    8.376909e+09  1.523871e+13       150.000000              NaN\n",
              "75%    4.399161e+12  3.423086e+13       200.000000              NaN\n",
              "max    6.849057e+12  4.034458e+13       250.000000              NaN"
            ],
            "text/html": [
              "\n",
              "  <div id=\"df-0bac53ea-006c-403a-8f84-32973c1f51a0\">\n",
              "    <div class=\"colab-df-container\">\n",
              "      <div>\n",
              "<style scoped>\n",
              "    .dataframe tbody tr th:only-of-type {\n",
              "        vertical-align: middle;\n",
              "    }\n",
              "\n",
              "    .dataframe tbody tr th {\n",
              "        vertical-align: top;\n",
              "    }\n",
              "\n",
              "    .dataframe thead th {\n",
              "        text-align: right;\n",
              "    }\n",
              "</style>\n",
              "<table border=\"1\" class=\"dataframe\">\n",
              "  <thead>\n",
              "    <tr style=\"text-align: right;\">\n",
              "      <th></th>\n",
              "      <th>product_id</th>\n",
              "      <th>variant_id</th>\n",
              "      <th>variant_option1</th>\n",
              "      <th>variant_option2</th>\n",
              "    </tr>\n",
              "  </thead>\n",
              "  <tbody>\n",
              "    <tr>\n",
              "      <th>count</th>\n",
              "      <td>5.000000e+02</td>\n",
              "      <td>5.000000e+02</td>\n",
              "      <td>2.000000</td>\n",
              "      <td>0.0</td>\n",
              "    </tr>\n",
              "    <tr>\n",
              "      <th>mean</th>\n",
              "      <td>1.656402e+12</td>\n",
              "      <td>1.753680e+13</td>\n",
              "      <td>150.000000</td>\n",
              "      <td>NaN</td>\n",
              "    </tr>\n",
              "    <tr>\n",
              "      <th>std</th>\n",
              "      <td>2.479467e+12</td>\n",
              "      <td>1.663319e+13</td>\n",
              "      <td>141.421356</td>\n",
              "      <td>NaN</td>\n",
              "    </tr>\n",
              "    <tr>\n",
              "      <th>min</th>\n",
              "      <td>5.502687e+09</td>\n",
              "      <td>1.686526e+10</td>\n",
              "      <td>50.000000</td>\n",
              "      <td>NaN</td>\n",
              "    </tr>\n",
              "    <tr>\n",
              "      <th>25%</th>\n",
              "      <td>5.505405e+09</td>\n",
              "      <td>4.569957e+10</td>\n",
              "      <td>100.000000</td>\n",
              "      <td>NaN</td>\n",
              "    </tr>\n",
              "    <tr>\n",
              "      <th>50%</th>\n",
              "      <td>8.376909e+09</td>\n",
              "      <td>1.523871e+13</td>\n",
              "      <td>150.000000</td>\n",
              "      <td>NaN</td>\n",
              "    </tr>\n",
              "    <tr>\n",
              "      <th>75%</th>\n",
              "      <td>4.399161e+12</td>\n",
              "      <td>3.423086e+13</td>\n",
              "      <td>200.000000</td>\n",
              "      <td>NaN</td>\n",
              "    </tr>\n",
              "    <tr>\n",
              "      <th>max</th>\n",
              "      <td>6.849057e+12</td>\n",
              "      <td>4.034458e+13</td>\n",
              "      <td>250.000000</td>\n",
              "      <td>NaN</td>\n",
              "    </tr>\n",
              "  </tbody>\n",
              "</table>\n",
              "</div>\n",
              "      <button class=\"colab-df-convert\" onclick=\"convertToInteractive('df-0bac53ea-006c-403a-8f84-32973c1f51a0')\"\n",
              "              title=\"Convert this dataframe to an interactive table.\"\n",
              "              style=\"display:none;\">\n",
              "        \n",
              "  <svg xmlns=\"http://www.w3.org/2000/svg\" height=\"24px\"viewBox=\"0 0 24 24\"\n",
              "       width=\"24px\">\n",
              "    <path d=\"M0 0h24v24H0V0z\" fill=\"none\"/>\n",
              "    <path d=\"M18.56 5.44l.94 2.06.94-2.06 2.06-.94-2.06-.94-.94-2.06-.94 2.06-2.06.94zm-11 1L8.5 8.5l.94-2.06 2.06-.94-2.06-.94L8.5 2.5l-.94 2.06-2.06.94zm10 10l.94 2.06.94-2.06 2.06-.94-2.06-.94-.94-2.06-.94 2.06-2.06.94z\"/><path d=\"M17.41 7.96l-1.37-1.37c-.4-.4-.92-.59-1.43-.59-.52 0-1.04.2-1.43.59L10.3 9.45l-7.72 7.72c-.78.78-.78 2.05 0 2.83L4 21.41c.39.39.9.59 1.41.59.51 0 1.02-.2 1.41-.59l7.78-7.78 2.81-2.81c.8-.78.8-2.07 0-2.86zM5.41 20L4 18.59l7.72-7.72 1.47 1.35L5.41 20z\"/>\n",
              "  </svg>\n",
              "      </button>\n",
              "      \n",
              "  <style>\n",
              "    .colab-df-container {\n",
              "      display:flex;\n",
              "      flex-wrap:wrap;\n",
              "      gap: 12px;\n",
              "    }\n",
              "\n",
              "    .colab-df-convert {\n",
              "      background-color: #E8F0FE;\n",
              "      border: none;\n",
              "      border-radius: 50%;\n",
              "      cursor: pointer;\n",
              "      display: none;\n",
              "      fill: #1967D2;\n",
              "      height: 32px;\n",
              "      padding: 0 0 0 0;\n",
              "      width: 32px;\n",
              "    }\n",
              "\n",
              "    .colab-df-convert:hover {\n",
              "      background-color: #E2EBFA;\n",
              "      box-shadow: 0px 1px 2px rgba(60, 64, 67, 0.3), 0px 1px 3px 1px rgba(60, 64, 67, 0.15);\n",
              "      fill: #174EA6;\n",
              "    }\n",
              "\n",
              "    [theme=dark] .colab-df-convert {\n",
              "      background-color: #3B4455;\n",
              "      fill: #D2E3FC;\n",
              "    }\n",
              "\n",
              "    [theme=dark] .colab-df-convert:hover {\n",
              "      background-color: #434B5C;\n",
              "      box-shadow: 0px 1px 3px 1px rgba(0, 0, 0, 0.15);\n",
              "      filter: drop-shadow(0px 1px 2px rgba(0, 0, 0, 0.3));\n",
              "      fill: #FFFFFF;\n",
              "    }\n",
              "  </style>\n",
              "\n",
              "      <script>\n",
              "        const buttonEl =\n",
              "          document.querySelector('#df-0bac53ea-006c-403a-8f84-32973c1f51a0 button.colab-df-convert');\n",
              "        buttonEl.style.display =\n",
              "          google.colab.kernel.accessAllowed ? 'block' : 'none';\n",
              "\n",
              "        async function convertToInteractive(key) {\n",
              "          const element = document.querySelector('#df-0bac53ea-006c-403a-8f84-32973c1f51a0');\n",
              "          const dataTable =\n",
              "            await google.colab.kernel.invokeFunction('convertToInteractive',\n",
              "                                                     [key], {});\n",
              "          if (!dataTable) return;\n",
              "\n",
              "          const docLinkHtml = 'Like what you see? Visit the ' +\n",
              "            '<a target=\"_blank\" href=https://colab.research.google.com/notebooks/data_table.ipynb>data table notebook</a>'\n",
              "            + ' to learn more about interactive tables.';\n",
              "          element.innerHTML = '';\n",
              "          dataTable['output_type'] = 'display_data';\n",
              "          await google.colab.output.renderOutput(dataTable, element);\n",
              "          const docLink = document.createElement('div');\n",
              "          docLink.innerHTML = docLinkHtml;\n",
              "          element.appendChild(docLink);\n",
              "        }\n",
              "      </script>\n",
              "    </div>\n",
              "  </div>\n",
              "  "
            ]
          },
          "metadata": {},
          "execution_count": 23
        }
      ]
    },
    {
      "cell_type": "markdown",
      "source": [],
      "metadata": {
        "id": "hDnVQ8DiTQ1N"
      }
    }
  ]
}